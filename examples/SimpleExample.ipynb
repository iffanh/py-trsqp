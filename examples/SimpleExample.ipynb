{
 "cells": [
  {
   "cell_type": "code",
   "execution_count": null,
   "id": "f2a4ccd3",
   "metadata": {},
   "outputs": [],
   "source": [
    "from IPython.display import display, HTML\n",
    "display(HTML(\"<style>.container { width:100% !important; }</style>\"))\n",
    "\n",
    "import os\n",
    "os.chdir(\"../\")\n",
    "\n",
    "from src.trust_region_sqp import TrustRegionSQPFilter\n",
    "import numpy as np\n",
    "import casadi as ca\n",
    "\n",
    "constants = dict()\n",
    "constants[\"gamma_0\"] = 0.5\n",
    "constants[\"gamma_1\"] = 0.99\n",
    "constants[\"gamma_2\"] = 1.5\n",
    "constants[\"eta_1\"] = 0.0001\n",
    "constants[\"eta_2\"] = 0.01\n",
    "constants[\"L_threshold\"] = 1.0"
   ]
  },
  {
   "cell_type": "code",
   "execution_count": null,
   "id": "c1635fa7",
   "metadata": {},
   "outputs": [],
   "source": [
    "# def cf(x:np.ndarray) -> float: # blackbox\n",
    "#     return 10*(x[0]**2) + 2*(x[1]**2) + 4*x[0]*x[1] \n",
    "def cf(x:np.ndarray) -> np.ndarray: # Rosenbrock function: OF\n",
    "    return 1*(x[1]-x[0]**2)**2+((x[0]-1)**2)/100\n",
    "\n",
    "def eq_constraint1(x:np.ndarray) -> np.ndarray: # equality constraints \n",
    "    return x[1]**2 + x[0]**2 - 2 # = 0\n",
    "\n",
    "def eq_constraint2(x:np.ndarray) -> np.ndarray: # equality constraints \n",
    "    return x[1] - 1 + - (x[0] - 1)**3 # = 0\n",
    "\n",
    "def ineq_constraint(x:np.ndarray) -> np.ndarray: # inequality constraints\n",
    "    return - x[1] - x[0] + 2 # > 0\n"
   ]
  },
  {
   "cell_type": "code",
   "execution_count": null,
   "id": "a0740bf6",
   "metadata": {
    "scrolled": true
   },
   "outputs": [],
   "source": [
    "tr = TrustRegionSQPFilter(x0 = np.array([-2.2000, 1.00000]),\n",
    "                          k = 6, \n",
    "                          cf = cf, \n",
    "                          eqcs = [], #[eq_constraint1, eq_constraint2], \n",
    "                          ineqcs = [], \n",
    "                          constants = constants) #[ineq_constraint])\n",
    "\n",
    "tr.optimize(max_iter=100)"
   ]
  }
 ],
 "metadata": {
  "kernelspec": {
   "display_name": "Python 3 (ipykernel)",
   "language": "python",
   "name": "python3"
  },
  "language_info": {
   "codemirror_mode": {
    "name": "ipython",
    "version": 3
   },
   "file_extension": ".py",
   "mimetype": "text/x-python",
   "name": "python",
   "nbconvert_exporter": "python",
   "pygments_lexer": "ipython3",
   "version": "3.8.10"
  }
 },
 "nbformat": 4,
 "nbformat_minor": 5
}
